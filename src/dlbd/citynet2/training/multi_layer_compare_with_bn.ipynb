{
 "cells": [
  {
   "cell_type": "code",
   "execution_count": 1,
   "metadata": {},
   "outputs": [],
   "source": [
    "%matplotlib inline\n",
    "\n",
    "import matplotlib.pyplot as plt\n",
    "import numpy as np\n",
    "import pickle\n",
    "import collections"
   ]
  },
  {
   "cell_type": "code",
   "execution_count": 81,
   "metadata": {},
   "outputs": [
    {
     "name": "stdout",
     "output_type": "stream",
     "text": [
      "(12, 4, 32, 20)\n"
     ]
    }
   ],
   "source": [
    "NUM_FILTERS = 32 * 4\n",
    "SPEC_HEIGHT = 32\n",
    "HWW_X = 10\n",
    "WIGGLE_ROOM = 5\n",
    "CONV_FILTER_WIDTH = 4\n",
    "channels = 4\n",
    "NUM_DENSE_UNITS = 128 * 4\n",
    "\n",
    "np.random.seed(10)\n",
    "input_data = np.random.rand(12, channels, SPEC_HEIGHT, HWW_X*2).astype(np.float32)\n",
    "print(input_data.shape)"
   ]
  },
  {
   "cell_type": "code",
   "execution_count": 82,
   "metadata": {},
   "outputs": [
    {
     "name": "stdout",
     "output_type": "stream",
     "text": [
      "(128, 4, 27, 4)\n",
      "(128,)\n",
      "(128,)\n",
      "(128,)\n",
      "(128,)\n",
      "(128, 128, 1, 3)\n",
      "(128,)\n",
      "(128,)\n",
      "(128,)\n",
      "(128,)\n",
      "(768, 512)\n",
      "(512,)\n",
      "(512,)\n",
      "(512,)\n",
      "(512,)\n",
      "(512, 512)\n",
      "(512,)\n",
      "(512,)\n",
      "(512,)\n",
      "(512,)\n",
      "(512, 2)\n",
      "(2,)\n"
     ]
    }
   ],
   "source": [
    "weights = pickle.load(open('weights/weights_99.pkl', 'rb'), encoding='latin1')\n",
    "for xx in weights:\n",
    "    print(xx.shape)"
   ]
  },
  {
   "cell_type": "markdown",
   "metadata": {},
   "source": [
    "# Theano"
   ]
  },
  {
   "cell_type": "code",
   "execution_count": 84,
   "metadata": {},
   "outputs": [
    {
     "name": "stdout",
     "output_type": "stream",
     "text": [
      "odict_keys(['input', 'conv1_1', 'pool1', 'conv1_2', 'pool2', 'fc6', 'fc7', 'fc8', 'prob'])\n",
      "(12, 512)\n"
     ]
    }
   ],
   "source": [
    "import theano\n",
    "import lasagne\n",
    "\n",
    "from lasagne.layers import InputLayer, DimshuffleLayer, DenseLayer, DropoutLayer, NonlinearityLayer\n",
    "from lasagne.layers import Conv2DLayer as ConvLayer\n",
    "from lasagne.layers import Pool2DLayer as PoolLayer\n",
    "from lasagne.layers import batch_norm\n",
    "from lasagne.nonlinearities import softmax, very_leaky_rectify as vlr\n",
    "\n",
    "# batch_norm = lambda x:x\n",
    "net = {}\n",
    "net['input'] = InputLayer((None, channels, SPEC_HEIGHT, HWW_X*2), name='input')\n",
    "net['conv1_1'] = batch_norm(\n",
    "    ConvLayer(net['input'], NUM_FILTERS, (SPEC_HEIGHT - WIGGLE_ROOM, CONV_FILTER_WIDTH), nonlinearity=vlr, b=None))\n",
    "\n",
    "net['pool1'] = net['conv1_1'] \n",
    "net['conv1_2'] = batch_norm(\n",
    "    ConvLayer(net['pool1'], NUM_FILTERS, (1, 3), nonlinearity=vlr))\n",
    "W = net['conv1_2'].output_shape[3]\n",
    "net['pool2'] = PoolLayer(net['conv1_2'], pool_size=(1, W), stride=(1, 1), mode='max')\n",
    "\n",
    "net['fc6'] = batch_norm(DenseLayer(net['pool2'], num_units=NUM_DENSE_UNITS, nonlinearity=vlr))\n",
    "net['fc7'] = batch_norm(DenseLayer(net['fc6'], num_units=NUM_DENSE_UNITS, nonlinearity=vlr))\n",
    "net['fc8'] = DenseLayer(net['fc7'], num_units=2, nonlinearity=vlr)\n",
    "net['prob'] = NonlinearityLayer(net['fc8'], softmax)\n",
    "\n",
    "lasagne.layers.set_all_param_values(net['prob'], weights)\n",
    "\n",
    "test_output = lasagne.layers.get_output(net.values(), deterministic=True)\n",
    "pred_fn = theano.function([net['input'].input_var], test_output)\n",
    "\n",
    "theano_pred = pred_fn(input_data)\n",
    "theano_pred = collections.OrderedDict((k, v) for k, v in zip(net.keys(), theano_pred))\n",
    "\n",
    "print(theano_pred.keys())\n",
    "print(theano_pred[\"fc7\"].shape)"
   ]
  },
  {
   "cell_type": "code",
   "execution_count": 85,
   "metadata": {},
   "outputs": [
    {
     "name": "stdout",
     "output_type": "stream",
     "text": [
      "(12, 2)\n",
      "0.23979701226077144\n"
     ]
    },
    {
     "data": {
      "text/plain": [
       "<matplotlib.colorbar.Colorbar at 0x135ceca58>"
      ]
     },
     "execution_count": 85,
     "metadata": {},
     "output_type": "execute_result"
    },
    {
     "data": {
      "image/png": "[encoded data removed]",
      "text/plain": [
       "<Figure size 432x288 with 2 Axes>"
      ]
     },
     "metadata": {},
     "output_type": "display_data"
    }
   ],
   "source": [
    "test_key = 'fc8'\n",
    "layer2d = False\n",
    "\n",
    "print(theano_pred[test_key].shape)\n",
    "if layer2d:\n",
    "    plt.imshow(theano_pred[test_key][0, 0])\n",
    "else:\n",
    "    plt.imshow(theano_pred[test_key][:, :100])\n",
    "    print(theano_pred[test_key][:, :100].mean())\n",
    "plt.colorbar()"
   ]
  },
  {
   "cell_type": "markdown",
   "metadata": {},
   "source": [
    "# TF"
   ]
  },
  {
   "cell_type": "code",
   "execution_count": 86,
   "metadata": {},
   "outputs": [],
   "source": [
    "import collections\n",
    "import tensorflow as tf\n",
    "from tensorflow import layers\n",
    "from tensorflow.contrib import slim"
   ]
  },
  {
   "cell_type": "code",
   "execution_count": 88,
   "metadata": {
    "scrolled": false
   },
   "outputs": [],
   "source": [
    "tf.reset_default_graph()\n",
    "\n",
    "tf_net = collections.OrderedDict()\n",
    "\n",
    "\n",
    "class BatchNormFeedforward(tf.keras.layers.Layer):\n",
    "    def __init__(self, name, beta, gamma, mean, inv_std):\n",
    "        super(BatchNormFeedforward, self).__init__()\n",
    "        self.bn_mean_0 = tf.get_variable(\"bn_mean_\" + name, initializer=mean[None, None, None, :])\n",
    "        self.inv_std_0 = tf.get_variable(\"inv_std_\" + name, initializer=inv_std[None, None, None, :])\n",
    "        self.gamma_0 = tf.get_variable(\"gamma_\" + name, initializer=gamma[None, None, None, :])\n",
    "        self.beta_0 = tf.get_variable(\"beta_\" + name, initializer=beta[None, None, None, :])\n",
    "\n",
    "    def call(self, input):\n",
    "        return (input - self.bn_mean_0) * (self.gamma_0 * self.inv_std_0) + self.beta_0\n",
    "    \n",
    "\n",
    "bn0 = BatchNormFeedforward(\"0\", *weights[1:5])\n",
    "bn1 = BatchNormFeedforward(\"1\", *weights[6:10])\n",
    "bn2 = BatchNormFeedforward(\"2\", *weights[11:15])\n",
    "bn3 = BatchNormFeedforward(\"3\", *weights[16:20])\n",
    "    \n",
    "tf_net['input'] = tf.placeholder(\n",
    "    tf.float32, (None, SPEC_HEIGHT, HWW_X*2, channels), name='input')\n",
    "tf_net['conv1_1'] = slim.conv2d(\n",
    "    tf_net['input'], NUM_FILTERS, (SPEC_HEIGHT - WIGGLE_ROOM, CONV_FILTER_WIDTH), \n",
    "    padding='valid', activation_fn=None, biases_initializer=None)\n",
    "tf_net['conv1_1'] = bn0(tf_net['conv1_1'])\n",
    "tf_net['conv1_1'] = tf.nn.leaky_relu(tf_net['conv1_1'], alpha=1/3)\n",
    "\n",
    "tf_net['conv1_2'] = slim.conv2d(\n",
    "    tf_net['conv1_1'], NUM_FILTERS, (1, 3), padding='valid', \n",
    "    activation_fn=None, biases_initializer=None)\n",
    "tf_net['conv1_2'] = bn1(tf_net['conv1_2'])\n",
    "tf_net['conv1_2'] = tf.nn.leaky_relu(tf_net['conv1_2'], alpha=1/3)\n",
    "\n",
    "W = tf_net['conv1_2'].shape[2]\n",
    "tf_net['pool2'] = slim.max_pool2d(\n",
    "    tf_net['conv1_2'], kernel_size=(1, W), stride=(1, 1))\n",
    "\n",
    "\n",
    "tf_net['pool2'] = tf.transpose(tf_net['pool2'], (0, 3, 2, 1))\n",
    "tf_net['pool2_flat'] = slim.flatten(tf_net['pool2'])\n",
    "\n",
    "tf_net['fc6'] = slim.fully_connected(\n",
    "    tf_net['pool2_flat'], NUM_DENSE_UNITS, \n",
    "    activation_fn=None, biases_initializer=None)\n",
    "tf_net['fc6'] = bn2(tf_net['fc6'])\n",
    "tf_net['fc6'] = tf.nn.leaky_relu(tf_net['fc6'], alpha=1/3)\n",
    "\n",
    "tf_net['fc7'] = slim.fully_connected(\n",
    "    tf_net['fc6'], NUM_DENSE_UNITS, \n",
    "    activation_fn=None, biases_initializer=None)\n",
    "tf_net['fc7'] = bn3(tf_net['fc7'])\n",
    "tf_net['fc7'] = tf.nn.leaky_relu(tf_net['fc7'], alpha=1/3)\n",
    "\n",
    "\n",
    "tf_net['fc8'] = slim.fully_connected(tf_net['fc7'], 2, activation_fn=None)\n",
    "tf_net['fc8'] = tf.nn.leaky_relu(tf_net['fc8'], alpha=1/3)"
   ]
  },
  {
   "cell_type": "code",
   "execution_count": 90,
   "metadata": {
    "scrolled": false
   },
   "outputs": [
    {
     "name": "stdout",
     "output_type": "stream",
     "text": [
      "Conv/weights:0 (27, 4, 4, 128)\n",
      "Conv_1/weights:0 (1, 3, 128, 128)\n",
      "fully_connected/weights:0 (768, 512)\n",
      "fully_connected_1/weights:0 (512, 512)\n",
      "fully_connected_2/weights:0 (512, 2)\n",
      "fully_connected_2/biases:0 (2,)\n",
      "(12, 32, 20, 4) (1, 1, 12, 2)\n",
      "(1, 1, 12, 2)\n"
     ]
    },
    {
     "data": {
      "text/plain": [
       "<matplotlib.colorbar.Colorbar at 0x133766358>"
      ]
     },
     "execution_count": 90,
     "metadata": {},
     "output_type": "execute_result"
    },
    {
     "data": {
      "image/png": "[encoded data removed]",
      "text/plain": [
       "<Figure size 432x288 with 2 Axes>"
      ]
     },
     "metadata": {},
     "output_type": "display_data"
    }
   ],
   "source": [
    "input_data_tf = input_data.transpose(0, 2, 3, 1)\n",
    "\n",
    "# list of tensorflow names corresponding to each value in pickle file\n",
    "var_mapper = {\n",
    "    \"Conv/weights:0\": weights[0],\n",
    "    \"Conv_1/weights:0\": weights[5],\n",
    "    \"fully_connected/weights:0\": weights[10],\n",
    "    \"fully_connected_1/weights:0\": weights[15],\n",
    "    \"fully_connected_2/weights:0\": weights[20],\n",
    "    \"fully_connected_2/biases:0\": weights[21]\n",
    "}\n",
    "\n",
    "with tf.Session() as sess:\n",
    "    sess.run(tf.global_variables_initializer())\n",
    "    \n",
    "    for var in tf.global_variables():\n",
    "        if var.name in var_mapper:\n",
    "            value = var_mapper[var.name]\n",
    "            if len(value.shape) == 4:\n",
    "                _value = value.transpose(2, 3, 1, 0)[::-1, ::-1]\n",
    "            else:\n",
    "                _value = value.copy()\n",
    "\n",
    "            print(var.name, _value.shape)\n",
    "            sess.run(var.assign(_value))\n",
    "\n",
    "# with tf.Session() as sess:\n",
    "    tf_pred = sess.run(tf_net[test_key], feed_dict={tf_net['input']: input_data_tf})\n",
    "#     print(tf_pred.shape)\n",
    "    if layer2d:\n",
    "        tf_pred = tf_pred.transpose(0, 3, 1, 2)\n",
    "    print(input_data_tf.shape, tf_pred.shape)\n",
    "    \n",
    "print(tf_pred.shape)\n",
    "if layer2d:\n",
    "    plt.imshow(tf_pred[0, 0])\n",
    "elif test_key in ['fc7', 'fc8']:\n",
    "    plt.imshow(tf_pred.squeeze()[:, :100])\n",
    "else:\n",
    "    plt.imshow(tf_pred[:, :100])\n",
    "\n",
    "plt.colorbar()"
   ]
  },
  {
   "cell_type": "markdown",
   "metadata": {},
   "source": [
    "# Plotting % \"error\""
   ]
  },
  {
   "cell_type": "code",
   "execution_count": 80,
   "metadata": {
    "scrolled": true
   },
   "outputs": [
    {
     "data": {
      "text/plain": [
       "<matplotlib.colorbar.Colorbar at 0x131ad9be0>"
      ]
     },
     "execution_count": 80,
     "metadata": {},
     "output_type": "execute_result"
    },
    {
     "data": {
      "image/png": "[encoded data removed]",
      "text/plain": [
       "<Figure size 432x288 with 2 Axes>"
      ]
     },
     "metadata": {},
     "output_type": "display_data"
    }
   ],
   "source": [
    "if layer2d:\n",
    "    A = theano_pred[test_key][0, 0]\n",
    "    B = tf_pred[0, 0]\n",
    "else:\n",
    "    A = theano_pred[test_key]\n",
    "    B = tf_pred.squeeze()\n",
    "\n",
    "err = (A - B) / A * 100\n",
    "plt.imshow(err[:, :100])\n",
    "plt.colorbar()"
   ]
  },
  {
   "cell_type": "code",
   "execution_count": null,
   "metadata": {},
   "outputs": [],
   "source": []
  },
  {
   "cell_type": "code",
   "execution_count": null,
   "metadata": {},
   "outputs": [],
   "source": []
  }
 ],
 "metadata": {
  "kernelspec": {
   "display_name": "Python 3",
   "language": "python",
   "name": "python3"
  },
  "language_info": {
   "codemirror_mode": {
    "name": "ipython",
    "version": 3
   },
   "file_extension": ".py",
   "mimetype": "text/x-python",
   "name": "python",
   "nbconvert_exporter": "python",
   "pygments_lexer": "ipython3",
   "version": "3.6.4"
  }
 },
 "nbformat": 4,
 "nbformat_minor": 2
}
